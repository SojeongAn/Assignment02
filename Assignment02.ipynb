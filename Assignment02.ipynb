{
 "cells": [
  {
   "cell_type": "markdown",
   "metadata": {},
   "source": [
    "This script demonstrates the first order Taylor expansion of a given function\n",
    "\n",
    "Name : Sojung An\n",
    "\n",
   ]
  },
  {
   "cell_type": "markdown",
   "metadata": {},
   "source": [
    "# Import packages for plotting graphs and manipulating data:"
   ]
  },
  {
   "cell_type": "code",
   "execution_count": 190,
   "metadata": {},
   "outputs": [],
   "source": [
    "import numpy as np\n",
    "import matplotlib.pyplot as plt"
   ]
  },
  {
   "cell_type": "markdown",
   "metadata": {},
   "source": [
    "# Define myFirstfunction: $f(x)=x^3+4x^2+5$"
   ]
  },
  {
   "cell_type": "code",
   "execution_count": 213,
   "metadata": {},
   "outputs": [],
   "source": [
    "def myFirstfunction(x):\n",
    "    f = x**3 + x**2 * 4 + 5\n",
    "    return f"
   ]
  },
  {
   "cell_type": "markdown",
   "metadata": {},
   "source": [
    "# Define mySecondfunction(derivative): $f'(x)=3x^2+8x$"
   ]
  },
  {
   "cell_type": "code",
   "execution_count": 214,
   "metadata": {},
   "outputs": [],
   "source": [
    "def mySecondfunction(x):\n",
    "    Df = x**2 * 3 + x * 8\n",
    "    return Df"
   ]
  },
  {
   "cell_type": "markdown",
   "metadata": {},
   "source": [
    "# Define Taylor: $f(x) \\approx f(a)+f'(a)(x-a)$"
   ]
  },
  {
   "cell_type": "code",
   "execution_count": 215,
   "metadata": {},
   "outputs": [],
   "source": [
    "def Taylor(x, n):\n",
    "    Tf = (n**3 * (-3) * n**2) + n * x * (3 * n + 8)\n",
    "    return Tf"
   ]
  },
  {
   "cell_type": "markdown",
   "metadata": {},
   "source": [
    "# Define the domain of the function:  $x=[-15 : 0.1 : 15]$"
   ]
  },
  {
   "cell_type": "code",
   "execution_count": 216,
   "metadata": {},
   "outputs": [],
   "source": [
    "x = np.arange(-15, 15, 0.1)"
   ]
  },
  {
   "cell_type": "markdown",
   "metadata": {},
   "source": [
    "# Compute the graph:"
   ]
  },
  {
   "cell_type": "code",
   "execution_count": 217,
   "metadata": {},
   "outputs": [],
   "source": [
    "f = myFirstfunction(x)\n",
    "Df = mySecondfunction(x)"
   ]
  },
  {
   "cell_type": "markdown",
   "metadata": {},
   "source": [
    "# Pick 3 points:"
   ]
  },
  {
   "cell_type": "code",
   "execution_count": 218,
   "metadata": {},
   "outputs": [],
   "source": [
    "test1 = Taylor(x, 1)\n",
    "test2 = Taylor(x, 2)\n",
    "test3 = Taylor(x, 3)"
   ]
  },
  {
   "cell_type": "markdown",
   "metadata": {},
   "source": [
    "# Graph Result:"
   ]
  },
  {
   "cell_type": "code",
   "execution_count": 212,
   "metadata": {},
   "outputs": [
    {
     "data": {
      "image/png": "iVBORw0KGgoAAAANSUhEUgAAAfAAAAD8CAYAAACIGfYpAAAABHNCSVQICAgIfAhkiAAAAAlwSFlzAAALEgAACxIB0t1+/AAAADl0RVh0U29mdHdhcmUAbWF0cGxvdGxpYiB2ZXJzaW9uIDIuMi4yLCBodHRwOi8vbWF0cGxvdGxpYi5vcmcvhp/UCwAAIABJREFUeJzt3Xd4VFX6wPHvmZIpIT0h9J4AAVEkgooKig0EFBUXcRXbootlXVxUFn+61tVVVxc7qyhWxI4VURTbWogF6V2IQgiQnkwy5fz+uDMkgUkhmWRmkvfzPPeZmTt3Ju9Ne+ece855ldYaIYQQQkQXU7gDEEIIIcShkwQuhBBCRCFJ4EIIIUQUkgQuhBBCRCFJ4EIIIUQUkgQuhBBCRCFJ4EIIIUQUkgQuhBBCRCFJ4EIIIUQUsoQ7gOZKTU3VvXr1CncYQggRVXJycvZordOa8fqOFovlKWAw0hhsCT5glcfjuXzYsGG7gx0Q9Qm8V69erFixItxhCCFEVFFK/dqc11sslqc6deo0MC0trcBkMsma3CHm8/lUfn5+1q5du54CJgY7Rj41CSGEaIrBaWlpxZK8W4bJZNJpaWlFGD0cwY9pxXiEEEK0HSZJ3i3L//2tM09LAhdCCCGikCRwIYQQUevOO+/s2KdPn0ETJ07sHYr3W79+fcwTTzyRHHj8+eefOy+++OLuoXjvUJMELoQQImo9/fTTae+///7GxYsXbw3F+23cuNH2yiuv7E/gJ5xwQvmzzz67IxTvHWqSwIUQQkSlqVOn9sjNzbVNnDixX1xc3BG33HJLeuC5jIyMQevXr49Zv359TJ8+fQZNmTKlZ79+/QaNHDkyo7S0VAGsWrXKduyxx2b2798/Kysra+Dq1attc+bM6bpixYoOAwYMyLrttts6vvvuu3EnnnhiP4C8vDzzySef3DczMzPr8MMPH/Dtt986AGbOnNll8uTJvYYPH96/W7duh915550dW+P8o34amRBCiPC69FK6r1qFM5TvOXgw5fPnU2/L96WXXtq+fPnyhOXLl2+477776kya27dvt7/wwgtbjj322F/HjRvX57nnnkuaMWPGvqlTp/b+29/+tuuiiy4qLC8vV16vV911112/PfDAA+mffvrpJoB33303LvA+N9xwQ5fDDz+8/OOPP968ePHiuGnTpvVet27dGoBNmzbZv/766/WFhYXmgQMHDp41a1a+zWZr0UF+0gIXQogok5MDd94JJSXhjiQ6dO3atfLYY4+tABg6dGj5tm3bbAUFBaa8vLyYiy66qBDA6XTquLg4X33v891338VddtllewEmTpxYUlhYaNm7d68Z4NRTTy10OBy6c+fOnuTkZHdubm6LN5ClBS6EEFHm/vvh/ffhL38JdySGhlrKrcFisWifrzr/VlZWqsD9mJiY/S1hs9msKyoqTFofeuM42GuUUhqgZmvbbDbj8XjUQQeHmLTAhRAiiuzYAa++Cn/6E8TFNXx8e9GrV6/Kn376KRbgyy+/dP7222+2+o5PTk72derUqer5559PBKioqFAlJSWmhIQEb2lpqTnYa44++uiSZ555JgWMrvWkpCRPcnJyva32liQJXAghosjDD4PWcPXV4Y4kslx00UUFBQUF5gEDBmQ98sgjaT179nQ19JoXXnhh66OPPtoxMzMzKzs7e8COHTssw4cPr7BYLLp///5Zt912W63r6vfee+/vP/zwgzMzMzNrzpw5XZ999tmQjHxvKtWUboSgb6SUGVgB/Ka1Hq+U6g0sBJKBH4ALtdZVSikb8BwwDNgL/EFrvc3/HrOBywAvcK3WeklDXzc7O1vLWuhCiPaguBi6d4fTT4dXXmneeymlcrTW2U19/c8//7zt8MMP39O8KERDfv7559TDDz+8V7DnQtkC/wuwtsbje4EHtdYZQAFGYsZ/W6C17gc86D8OpVQWMAUYBJwOPOb/UCCEEAJ46ikjic+aFe5IRCQISQJXSnUDzgCe8j9WwEnAa/5DFgBn+e+f6X+M//kx/uPPBBZqrSu11luBTcDwUMQnhBDRzu2Ghx6CUaMgu8ntZtGWhKoF/hBwA0b9UoAUoFBr7fE/zgW6+u93BWPEov/5Iv/x+/cHeU0tSqnpSqkVSqkV+fn5IToFIYSIXIsWGQPY/va3cEciIkWzE7hSajywW2udU3N3kEN1A8/V95raO7Wep7XO1lpnp6U1uR69EEJEBa2NqWMDB8K4ceGORkSKUMwDHwlMVEqNA+xAPEaLPFEpZfG3srsBv/uPzwW6A7lKKQuQAOyrsT+g5muEEKLdWrYMfvrJuAZukrlDwq/Zvwpa69la625a614Yg9CWaa0vAD4FzvUfNg14239/sf8x/ueXaWMo/GJgilLK5h/BngF819z4hBAi2t13H6Snwx//GO5IRCRpyc9yNwIzlVKbMK5xP+3f/zSQ4t8/E7gJQGu9GlgErAE+BK7SWntbMD4hhIh4K1fCkiVw7bVgq3dpEjFz5swuNQuaNOTFF19M+Pvf/96pKV/r+eefT8zJybEHHl933XVd3nrrrVZdWiekS6lqrT8DPvPf30KQUeRaaxcwuY7X3wXcFcqYhBAimt1/PzidcOWV4Y6kbXG73VxwwQVFGAOpD9lbb72V6PF4ioYNG+YCeOihh1r9kq9cTRFCiAi1dSu89JKRvJOTGz6+Pbrxxhs79erVa/Cxxx6buXHjRhvA6tWrbccff3zGoEGDBg4bNqz/jz/+aAc455xzel1++eXdRowYkTljxoxuc+fOTbnooot67N2719y1a9fDvF6j07ekpMTUqVOnIZWVleqBBx5IHTx48MD+/ftnnXbaaX1LSkpMS5cujf34448Tb7755m4DBgzIWr16te2cc87p9cwzzyQtWrQofty4cX0C8b377rtxJ510Uj+AN954I/6II44YkJWVNXDs2LF9ioqKmpWDpZiJEEJEqH/9C8xmmDkz3JE04NJLu7NqVUjLiTJ4cDnz59dbJOWLL75wvvnmm8m//PLLGrfbzRFHHJE1dOjQ8ssvv7znvHnzfj3ssMMqly1bFvvnP/+5xzfffLMBYPPmzfavvvpqg8ViYe7cuSkAKSkp3gEDBpS///77cRMmTChZuHBhwqhRo4psNpu+4IILCq6//vo9ANdee22XuXPnps6ZM2f3ySefXDh+/PiiSy65pKBmTJMmTSr+y1/+0rO4uNgUHx/ve/nll5POPffcfTt37rTcfffdnT///PMN8fHxvjlz5nS644470u+///6dTf0WSQIXQogItHMnzJ8PF18MXYOuiCE+/fTTDuPGjSsMlAE99dRTC10ul+nHH3/sMHny5L6B46qqqvZPUz777LMLLJaDU9/kyZMLXn755aQJEyaULFq0KHnGjBn5ADk5OY5bbrmla0lJibmsrMw8atSoervcrVYro0ePLl64cGHCJZdcUrBs2bKERx55JPfDDz+M27x5s3348OEDANxutxo2bFhpc85fErgQQkSgBx4AjwduvDHckTRCAy3llmQs5FnN5/MRFxfnWbdu3Zpgx3fo0CFo9bDzzz+/8Pbbb++al5dnXrVqlXPChAnFANOnT+/92muvbTrmmGMq5s6dm7J8+fIGB6pNmTJl36OPPtoxNTXVO2TIkPKkpCSf1prjjjuu+J133glZARS5Bi6EEBFm71544gk4/3zo06fh49urk046qfS9995LLC0tVQUFBaalS5cmOp1OX7du3armz5+fBEZC/9///udo6L0SEhJ8hx9+eNkVV1zRY8yYMUWBVnp5ebmpR48e7srKSrVw4cL9IxE6dOjgLS4uDppDzzjjjJLVq1c7//vf/6ZOnjx5H8Do0aPLVqxY0WHVqlU2MK6zr1y5slnzCiSBCyFEhJk7F8rK4Kabwh1JZDvuuOPKJ02atG/w4MGDxo8f33f48OGlAC+//PKWZ555JrV///5ZGRkZg15//fXExrzfeeedV/D2228nn3/++fsC+2666abfhw8fPvD444/PzMjI2F+i9IILLtg3d+7cTgMHDsxavXp1rURssVgYM2ZM0fLlyxP+8Ic/FAF06dLF8+STT26bMmVKn8zMzKxhw4YN+OWXX+w0Q8jKiYaLlBMVQrQlJSXQoweMHg1vvtlyX0fKiUaH1ionKoQQopkefxwKC+Hvfw93JCLSSQIXQogIUVZmLNxyyilw1FHhjkZEOkngQggRIR59FPLz4bbbwh2JiAaSwIUQIgKUlhpFS047DY45JtzRiGggCVwIISLAI4/Anj3S+haNJwlcCCHCrKTEaH2PHQsjRoQ7GhEtJIELIUSYPfww7NsH//hHuCOJHnv27DHfc889aU157e23396xpKRkf/675pprunbq1GmI0+kcGuzYRx55JKU5sf7444/2I444YkBMTMyRNcudulwulZ2d3d/tdjfpfSWBCyFEGBUXGyPPzzgDhh9UgFnUZe/eveann366Y1Ne++STT6aXlpbuz39nnXVW4bfffrv2wOPcbjcvvPBC6hVXXLG3ObF27NjR85///Gf7FVdckVdzv91u16NGjSp+6qmnmlRrThK4EEKE0dy5UFAgre9Ddf3113fbsWOHbcCAAVlXXHFFt//7v/9LHzx48MDMzMysv/71r10AiouLTaNHj+4XWJHtv//9b9Kdd97Zcffu3dZRo0ZljhgxIhNgzJgxZT179jyoGfzOO+/EH3bYYeVWqxW3283gwYMHvvvuu3EAV111VddrrrmmUWVmunbt6hk1alS51Wo9aOW0c889t7DmEq2HQoqZCCFEmOzbZ7S+J06E7CaviRZ+l759afdVu0NbTnRwx8Hl88+su0jKAw88kDt+/HjHunXr1rzxxhvxr776atLKlSvXaq05+eST+33wwQcd8vLyLJ06dXJ/9tlnm8BotaekpHgff/zx9OXLl2/o3Lmzp74Yvvjiiw5HHnlkORhVxp599tmt5513Xl+3271j2bJlCT/++ONagMsuu6z7V199dVCRk7PPPnvf3Xffvau+r3HUUUdVrFy5MrYx35MDSQIXQogwueceowv9rrvCHUl0+/DDD+M///zz+KysrCwwCpCsW7fOPmbMmJI5c+Z0//Of/9z1zDPPLDr99NMPqXznrl27rAMHDqwIPM7Oznadd955e6dMmdJv2bJla+12uwZ4+umnm1yNzWKxYLVadUFBgSkpKSlopbQ6X9vULyqEEKLpcnONwWsXXgiDB4c7muapr6XcGrTWXHfddTtnzZp10NrsP/zww5rXX389Yc6cOV0//vjj4vvvv39nY9/Xbrf7XC5XrUvNq1evdsTFxXl37txpBSqgeS1wMGqDO53OQy5MIglcCCHC4PbbweuVed9NlZCQ4C0rKzMBjB07tvgf//hHl+nTp+9LSEjwbd261RoTE6Pdbrfq2LGjZ8aMGfvi4uJ8CxYsSAGIjY31FhUVmTp37lzv1xg4cKBr06ZN+yuNLViwIHHfvn2WZcuWrZs4cWLG6NGj16ampnqb0wLftWuXOSkpyWOz2Q45gTd7EJtSyq6U+k4p9bNSarVS6jb//t5KqW+VUhuVUq8opWL8+23+x5v8z/eq8V6z/fvXK6VOa25sQggRidavh/nz4c9/hl69wh1NdOrUqZN32LBhpRkZGYOWLFkSP3ny5H1HHXXUgMzMzKxJkyb1LSwsNOfk5DiOOOKIgQMGDMi69957O99yyy07AaZNm7Zn7NixGYFBbFdeeWW39PT0IS6Xy5Senj5k5syZXQDOOuusoq+//joOYOfOnZZbb72124IFC7YNGTKk8vLLL989ffr07o2Jdfv27Zb09PQh8+bNS3/wwQc7p6enD9m3b58J4IMPPogfM2ZMUVO+B80uJ6qUUkCs1rpUKWUFvgT+AswE3tBaL1RKPQH8rLV+XCk1Axiitb5SKTUFmKS1/oNSKgt4GRgOdAE+BjK11t76vr6UExVCRJvzzoP334ctW6BjkyZCNZ+UE22cU045pe+///3v3MMOO6yyJd7/1FNP7XvfffflHn744UHfv0XLiWpDYGCA1b9p4CTgNf/+BcBZ/vtn+h/jf36M/0PAmcBCrXWl1norsAkjmQshRJuxYgW8+ipcf334krdovPvvvz83NzfX2hLv7XK51MSJEwvrSt4NCck1cKWUGcgB+gGPApuBQq11YIh+LhCYL9cV2AGgtfYopYqAFP/+b2q8bc3XCCFE1NMabroJUlKMBC4i3+GHH17Z1ATbELvdrq+++uomLxITkoVctNZerfURQDeMVvPAYIf5b1Udz9W1/yBKqelKqRVKqRX5+flNCVkIIVrd++/DJ5/ALbdAfHy4oxHRLqQrsWmtC4HPgKOBRKVUoIXfDfjdfz8X6A7gfz4B2Fdzf5DXHPh15mmts7XW2WlpTVoKVwghWpXbDX/7G2RmGoPXhGiuUIxCT1NKJfrvO4CTgbXAp8C5/sOmAW/77y/2P8b//DJtjKRbDEzxj1LvDWQA3zU3PiGEiATz5sG6dUbVMWuLXFEV7U0oroF3Bhb4r4ObgEVa63eVUmuAhUqpO4Efgaf9xz8NPK+U2oTR8p4CoLVerZRaBKwBPMBVDY1AF0KIaFBYCLfeCieeCBMmhDsa0VaEYhT6Sq31UK31EK31YK317f79W7TWw7XW/bTWk7XWlf79Lv/jfv7nt9R4r7u01n211v211h80NzYhhIgEd99trHv+wAOggo32EYcsVOVES0pKTKNHj+7Xu3fvQf369Rs0Y8aMrgce29xyoo8//nhyZmZmVmZmZtbQoUMH/O9//3OAlBMVQoiItmUL/Oc/cPHFMPSgatOiqUJZTvT666/P27p16+pVq1at+fbbbzssWrQoHkJXTrRfv36VX3311foNGzasmT179u9XXHFFT5ByokIIEdFuvBEsFrjzznBH0raEqpxoXFycb8KECSVgJNQhQ4aU79ixIwZCV070lFNOKUtLS/MCnHjiiWW7du2KCTwn5USFECICffIJvPaase55ly7hjqblrLt0XfeyVWUhLScaOzi2fMD8Aa1aTnTPnj3mpUuXJs6aNSsPWqac6MMPP5x64okn7l86VcqJCiFEhHG74ZproE8fmDUr3NG0baEoJ+p2uzn77LP7TJ8+PS8rK6sKQl9O9J133ol74YUXUr/++ut1gX1STlQIISLMww/D2rXwzjtgt4c7mpZVX0u5NYSinOjUqVN79enTx3XLLbfsDuwLZTnRb7/91jFjxoye77333sZOnTrVmmEl5USFECJC7NwJ//gHnHEGjB8f7mjaplCWE7322mu7FBcXmxcuXLit5tcIVTnRjRs3xkyePLnv/Pnztw4ZMqTWsqzNKScqCVwIIULshhugshIeeijckbRdNcuJnnTSSUWBcqIATqfT9+KLL25dt26dbfbs2d1MJhMWi0U/9thjv0J1OdGOHTu6X3rppa0PP/xw5969e7sGDRqUBTB9+vTdM2fO3HPWWWcVTZ06tTdUlxP9+OOP1/fr188dKCf6xhtvbGso1ptvvrlzYWGh5ZprrukJYLFY9KpVq9ZCmMuJhpuUExVCRJIvvoATToCbb4Y77gh3NHWTcqKN06bLiQohhDC43XD11dCjB8yeHe5oRCi0+XKiQggh4MEHYeVKePNNcIZ0UpUIlzZfTlQIIdq7LVuMgWtnnWVsQrQ0SeBCCNFMWhslQi0WY/qYEK1ButCFEKKZXnoJPvoIHnkEunULdzSivZAWuBBCNMPevXDddTBiBFx5ZbijEe2JJHAhhGiGWbOMet/z5oHZHO5o2o9QlRMFOP744zP69++f1a9fv0FTp07t4fFUL5F+6aWXdv/ggw86NCfWf/3rX2mZmZlZAwYMyBo2bFj/nJwcO8B3333nOOecc3o19X0lgQshRBMtWQLPPAN/+xsMGRLuaNqXUJYTffvttzevX79+zYYNG1bv3bvXOn/+/CSAvLw8c05OTuzYsWPrXEO9MS6//PK9GzZsWLNu3bo1M2fO3HXdddd1Bxg+fHjFzp07YzZu3BjT0HsEIwlcCCGaoKgILr8cBg6EW28NdzTtT6jKiQIkJyf7wFiT3O12K6UUAM8//3zSmDFjisH4wNCrV6/BP//8sw1gwoQJvR944IHUxsQaeH+A0tJSc+D9AcaOHVu4YMGCpKZ8D2QQmxBCNMHMmcaa52+80faLlTRk3bpLu5eVrQptOdHYweUDBsxvtXKixx13XMbKlStjR40aVXTJJZcUAHz99dcdzj333AKAlJQU74MPPrh92rRpvWfMmJFXWFhouf766/cAnHHGGX02b9580G/B1VdfnReY5/3Pf/4z7bHHHkt3u92mpUuXrg8cM2LEiLJ77rmnM5B3qN8jSeBCCHGI3n8f5s+Hv/8djjoq3NGIUJQT/fLLLzeWl5erSZMm9XnnnXfiJ02aVJyXl2dNT0/fn+QnTZpUvGjRoqQbbrihZ05OzurA/vfee29LQzHOnj07f/bs2flPPPFE8q233to5sIZ6586dPXl5eU1a6U0SuBBCHIKCAvjTn2DwYLjllnBHExnqaym3hlCUEwVwOp16/PjxhW+++WbipEmTiu12u6+iomL/pWav18uGDRvsNpvNt2fPHkvfvn3d0LgWeMCf/vSnfbNmzeoReFxRUWGy2+2HVAc8QBK4EEIcguuug7w8WLwYbLaGjxctI1TlRIuKikyFhYXmnj17ut1uNx9++GHCyJEjSwD69+/v2rBhgw0oAbj99tvTMzMzXXfddddvl112Wa+cnJx1NptNN9QC/+WXX2yBYiivvPJKQs+ePfcvzbpmzRpb//79K5ryPWh2AldKdQeeAzoBPmCe1vo/Sqlk4BWgF7ANOE9rXeAfHfAfYBxQDlystf7B/17TgJv9b32n1npBc+MTQohQef11eO45o9LYsGHhjqZ9C1U50ddee23LGWec0a+qqkr5fD41cuTI4lmzZuUDTJw4sejxxx9Pmzlz5p6VK1fann/++dScnJy1SUlJvtdee63kpptu6vzggw/+3lCs//73vzt+8cUX8RaLRSckJHieffbZrYHnli1bFj9+/PjwlBNVSnUGOmutf1BKxQE5wFnAxcA+rfU9SqmbgCSt9Y1KqXHANRgJfATwH631CH/CXwFkA9r/PsO01gX1fX0pJyqEaA25ucZUsX794KuvwNoi9alaj5QTbZxhw4b1X7JkyabU1FRvqN+7oqJCHX300f1XrFixzlrHL1SLlhPVWu8MtKC11iXAWqArcCYQaEEvwEjq+Pc/pw3fAIn+DwGnAUu11vv8SXspcHpz4xNCiObyeuGii6Cqylg2NdqTt2i8++67L3fz5s1NmqfdkE2bNsXcddddv9WVvBsS0mvgSqlewFDgWyBda70TjCSvlApMuO8K1BzwkOvfV9f+YF9nOjAdoEePHsEOEUKIkLn/fvj0U2Pkeb9+4Y5GtKaTTjqprKXe+7DDDqsMXBtvipAt5KKU6gC8DlyntS6u79Ag+3Q9+w/eqfU8rXW21jo7La1JK+kJIUSjrFhhXPM+91y4+OJwRxNRfD6fL9j/bREi/u9vnSPUQ5LAlVJWjOT9otb6Df/uPH/XeOA6+W7//lyge42XdwN+r2e/EEKERWkpTJ0KnToZa50rSVc1rcrPz0+QJN4yfD6fys/PTwBW1XVMKEahK+BpYK3W+t81nloMTAPu8d++XWP/1UqphRiD2Ir8XexLgLuVUoEl5U4FZjc3PiGEaAqtYfp02LwZli2DpCYtdtl2eTyey3ft2vXUrl27BiPLcrcEH7DK4/FcXtcBobgGPhK4EPhFKfWTf9/fMRL3IqXUZcB2YLL/ufcxRqBvwphGdgmA1nqfUuoO4Hv/cbdrrfeFID4hhDhkTzwBL78Md94Jo0aFO5rIM2zYsN3AxHDH0Z41expZuMk0MiFEqK1YASNHwpgx8O67YGqD7cvmTiMT4dcGfy2FEKLpCgpg8mRIT4fnn2+byVu0DbKUqhBC+GltjDT/7Tf4/HNISQl3RELUTRK4EEL43XWXscb5Qw/B0UeHOxoh6iedQ0IIAbz9Nvzf/8Ef/wjXXhvuaIRomCRwIUS7t3q1kbizs2W+t4geksCFEO3avn1w5pkQGwtvvgkOR7gjEqJx5Bq4EKLd8nhgyhTYsQM++wy6dQt3REI0niRwIUS7pDVccw0sXQpPPw3HHBPuiIQ4NNKFLoRol+67z1ht7cYb4dJLwx2NEIdOErgQot155RUjcU+ZAnffHe5ohGgaSeBCiHbliy/goovguOPgmWdkpTURveRXVwjRbqxbB2edBb16wVtvgd0e7oiEaDpJ4EKIdmHbNjj5ZLBY4IMPZJlUEf1kFLoQos3btQtOOQXKymD5cujTJ9wRCdF8ksCFEG1aQQGceirs3GlMGRsyJNwRCREaksCFEG1WaSmMGwfr18N778lcb9G2SAIXQrRJgeT9/ffw6qvG9W8h2hIZxCaEaHNKSmDsWPj6a3jxRZg0KdwRCRF60gIXQrQpxcVG8v72W3j5ZZg8OdwRCdEyJIELIdqM4mI4/XSj2/yVV+Ccc8IdkRAtJyRd6Eqp+Uqp3UqpVTX2JSulliqlNvpvk/z7lVJqrlJqk1JqpVLqyBqvmeY/fqNSalooYhNCtA+7d8OJJ0ryFu1HqK6BPwucfsC+m4BPtNYZwCf+xwBjgQz/Nh14HIyED9wKjACGA7cGkr4QQtRn2zZjadS1a+Htt+Hss8MdkRAtLyQJXGv9ObDvgN1nAgv89xcAZ9XY/5w2fAMkKqU6A6cBS7XW+7TWBcBSDv5QIIQQtaxaBSNHQn6+Mc973LhwRyRE62jJUejpWuudAP7bjv79XYEdNY7L9e+ra78QQgT11Vdw/PHG/S++MBK5EO1FOKaRqSD7dD37D34DpaYrpVYopVbk5+eHNDghRHR48UU46SRISzMS+eDB4Y5IiNbVkgk8z981jv92t39/LtC9xnHdgN/r2X8QrfU8rXW21jo7LS0t5IELISKX1nDrrfDHPxorq/3vf0Z1MSHam5ZM4IuBwEjyacDbNfZf5B+NfjRQ5O9iXwKcqpRK8g9eO9W/TwghAKiogPPPh9tvh0sugY8+kqpiov0KyTyouE4NAAAgAElEQVRwpdTLwGggVSmVizGa/B5gkVLqMmA7EFhO4X1gHLAJKAcuAdBa71NK3QF87z/udq31gQPjhBDt1K+/wrnnQk4O3HsvzJoFKtiFNyHaCaV10MvMUSM7O1uvWLEi3GEIIVrQRx8ZLW+PB557Ds48M9wRRT+lVI7WOjvccYimk7XQhRARy+eDO+4wVlfr2hVWrJDkDUBuLrzxRrijEGEmS6kKISJSXh5cfDF8+KExYO3JJ8HpDHdUYVJebsyTW7oUliwxJr8rZXyTZCBvuyUJXAgRcd57zxikVlICjz0GV17Zzq53+3zw009Gwl66FL78EiorISbGWHLuvvuMbonU1HBHKsJIErgQImJUVBiD0x59FIYMgU8/hUGDwh1VK9mxozphf/wx7Nlj7D/sMLjqKjjlFDjhhHbcDSEOJAlcCBERvv4aLrsM1q2Dv/4V/vlPsNnCHVULys+Hzz83PqV88olx4gCdOhn1UE89FU4+2XgsRBCSwIUQYVVaCnPmwMMPQ/fuxojzU04Jd1QtYM8eI2F/9pmRtFf5izfGxhrrwU6fbpz4oEHt7HqBaCpJ4EKIsPnoI7jiCqOa2NVXw913Q1xcuKMKkb17ayfsX34x9judxnXsqVON+qfDhoHVGtZQRXRqvwl83jzjD2nkSGMdRvnEK0Sr+fVXmDnTmAmVmWkMsD7uuHBH1Qxaw/btxmCzr74ytl9+MfY7HMbJTZkCo0dDdrYxGE2IZmq/CfyBB2DDBuN+585w7LFGMh85Eo44Qv7AhGgBFRXGAOp//tP4zHznnXD99WC3hzuyQ+TxwMqVRqIOJO3ffjOei4szFmmfPNloYR91lPw/ES2i/SbwNWuMa1Bff139ifn1143n7HYYPrw6qR97LCQnhzdeIaKY12tUD7vlFqP1fd55cP/9xjXvqFBYCN9/X/2/4ptvjIv3YJzE8ccbreyRI41R42ZzeOMV7YIspVrT779XJ/Svv4YffjA+aQP0728k9cB2+OFtfIisEM2ntTGne/Zs4/PykUcaifvEE8MdWT2qqozW9XffwbffGreBEeJKGfPbAsl65Ejo0SO88TaRLKUa/SSB16e8vPpT97ffGltenvGc1Wok8UBCP+ooGDAATLI6rRBaGwPU7rjD+PPp18/oLp88OcL+RLSGzZtrJ+sffzQWTQHo2BFGjDC2wN96QkJ4Yw4RSeDRTxL4odDaWIP4+++NP/TvvjMWZy4pMZ6PizMGqBx1FAwdamwZGRH2H0uIluPzwVtvGaPJc3KM9cvnzIHLL4+AgdY+H2zaZCToH36o3vb5ix46HMbf7/Dh1Qm7R482O8BVEnj0kwTeXD4frF9vJPNAYv/pJ3C7jedjY40ut0BCHzoUBg+W7nfRppSVwQsvwNy5xvCSvn3hppvgwgvD9KvudsPatdXJ+scfjS1w3dpqNa5VDx1anbAHDQJL+xkWJAk8+kkCbwlVVdX/PALbTz9Vt9QtFsjKMka7Dx1q/CMZPNjormujn/ZF27Rtm7Hs6VNPGeO8jjjCWAr1vPNaMRfu3m1M2Vq1yrhdudLYAt3gsbHG5a4jjzT+3o480vj7i4KR4dqnce9z486vse1xU5VfhWevh77/7otq4v8MSeDRTxJ4a/H5YMuW6mQeSOy7dlUfk5pqJPLANmiQsSUlhS9uIQ7gchnd5PPnG0t2m0xwzjlwzTXGmK4W+wxaWgqrV9dO1qtWGQk8IC3N+EB85JHVCTsjI2JGhfuqfLj3GEnYnW8k4prJef9j//PuvW7wBX8vc7yZY3KPwRLXtE9KksCjnyTwcNu1y/intGpV7S3Q1QfGhcRAUh8wwBgR37+/8c9KWuyiFXi9xmC0hQvh5ZeN1naPHka5zz/9Cbp1C+EX27PHGPW9bp1xeWrdOuNvZOvW6mOcTuPvIdB7ddhhxtaxYwgDaZi33Ft3It7jPmift8gb/I0UWJItxKTFYE2z7t/2P049YF+qFZOteWNrJIFHP0ngkUhrozLRgUl9zZrqbkGAxMTqZB7YMjONFkfUrYwhIo3HY6yQ9uqrxoppeXnGr9XZZ8OllxpTwZo8PtPtNhLygYl63brqQWVgXEDPzISBA6uT9ODB0Lt3yAeHaq3xFHmCdlcHbSXnu/FVBG8eK4s6OBHXSMK1knOaFWuyFWVu3Q/jksCjnyTwaOL1GqtgrF9fvW3YYNwGVoECo1Xes6eRyPv0qb317dtmpsGI0MvLM6pZLllibPn5xuDsM84wpoCNGwcdOjTyzUpKjMtGmzdXb4HHv/5q/D4HpKcbvUuBHqbA/R49mtz9rb0a994Guqv31E7W2h38/6HJadrfEq6zlVyjpWxJsDT52nRrkQQe/SSBtxWlpdXJPLAF/mHu3Vv72OTkgxN7r17GilLduxuDfkS7UFgI//sfLF9uJOyffjL2p6Ya1SzPPhtOP72OX4myMqOnaPt24/bXX2sn7Pz82scnJxsfIPv2NX7nMjOrE3ZiYoOx+ip9QVvEdbWSPfs8UMe/N3OCufHd1WlWzM5D+xChtcblcR20VXgqDt7nDrIv2HFB9n1z2TdYzU2bnycJPPpJAm8PioqM7sotWw7etm2rnvIWkJRktHwCCf3ArVu3qBjBK2pzu43PdTk51QsOrl5tPGexGCsGn3aasQ3NqsSUt9NYnbBmkt6+vXo78IOhyWT8fgQSdCBZBx7XSNJaa7xl3sZ3V+9x4y2u4/qxCawpB3dXm1PNqBSFTtL4knx4kjy4E91UxVXhMgVJrs1IpAe+ttJbGTzWRlIoHFYHdosdh8W4rbkFnnt18qvYLU27XCYJPPpFXAJXSp0O/AcwA09pre+p73hJ4M3k9Rrd79u21f5HXXOreU0yICUFOnWq3jp3Dv44KUkG2rUyr9f4MW7aZAyb+PlnY1u9SmOrKqYju8mI3cnx/XYyrMtO+sfvpIv6HWv+Ttjp3woKDn7jhITqD3Y9etTadLfueJwdcRdRK/FW7q6kIq+Cyt2VVO2pwpPvwbvXi2+PD+rIcT6rD0+ih6r4KlwJLlzxLsriyiiLK6OkQwnFscUUxRZR4Chgn2MfBbYCKnwVByVSt88d/As0ksVkqU6Y9STR/Zs5yL7GvvaA4yymlu+ClwQe/SIqgSulzMAG4BQgF/geOF9rvaau10gCbwWBrtLAlptrjJ6vue3cacwvOpDVaiT71FTjtr77KSlGKy0hQRa6qUdpiWbXNhf5m4rYt7WIou1FFP9aQOm2PVT+tge1dw9Jvj2ksocU8km25pNo24ONvbjNXios4Kq52S1UdEzClZKAKzkeV2IHXB064DEn4fMloD3xqMoOmEpsmAvMWIosxBTFYCuy4Sh24Cxx4ix1YvYF72ausFZQGFtIobOQotgiCp2FFMYWUuQsoshZdNBz5bZy8OeuGHPMISfRxiTIhhKpzWLDYorsRV209qFU0wfySQKPfpH2Gzoc2KS13gKglFoInAnUmcBFK4iNrR5UVBetobi4dkIP3N+715gatHevMco4cN9bR5coGF308fFGMq9x6+0QT5U9gUpbPBXmDpTjoNLkpNLsoMrspNLkwGUybiuUkwocuC0OPBY72mxBW6xoswWf2YoyG//8lKreTKbGb2ZzHc/hw+KrwuxzY/a5MXmr8HpK8HrL8FQW4SotpKK0iIryIirKi6l0lVJVWUJVVSmV7jJcVWVUuitwe8rweMtw63J8qgKvcuEzu/CZq6i06tpJuCNUdKnx2KpwWaDCotEKrG4rieXJJJYlklCeQGJ5Igllxm1iWSIJ+QkkbjOe61yeQEJF3QMdy5xGa7g8rpyC9AJ2ZezCnejGnejGm+jFl+SDZFCpCnOKmZjY6iTc3dKdDEtGo5OoqRkJqi3QWlNVlUdFxQbKyzfUunW5tnPccYWYIvyDhmg5kfaT7wrsqPE4FxgRpljEoVDKSLIJCcagpIYEEv7evZT9uofda/dSsGkv5TuLqMwvxruvCF9RMabiYiy7irBXFeP0bCdeFxFPMQkUkYin0eH51AGtTguUW6DUYqHUYqbMYqHMYqLcYqbConBZNZWW2pvLEmSfVVNl8fk3Y99BLdz6xhg5/Vt931oNNo+ZGK+ZGG3BphNIcMeTWpVGalUKfdwpJJelEF+ZTAdXIrHl8ThLnNiL7diL7cQUxmCuCN461maNSlaYkk1YeliwpBlzkW0dbTg6OnCkO2oP9kqxYrK276TaEjye4oMSdODW6y3Zf5xSMTgcGTid/UlJmYDP58Jkauy0ANHWRFoCD3bR56A+fqXUdGA6QI8oLeXX3lRUwOq1Xn76xcWqdS42/VrBr7+52LHTRVGZCSxxxkgqSwJYXMQmuojrUkGHRBfOeBcxThcWuwtTTAUqxoWyuMBUjlZleHUZHl8Fbl8FVb4KqnwuKn2VVOpKKnUVLu2mqs5k7/Fv9Q86MmuFw2fBps3G5jNj12bsPgs2bcGOlQSsxOgYbMRgUzHE+GxYq2KweuzYsGNVNizmWGwxHbDbO+BwxuPsEI/TGU8HUwJOTzxObwfiqmzElJigANgH3j3eg6Y+6crgl76UTVUn3J4Nz0G2JFpQJhmj0Bp8vkoqKjYHTdRud16NIxV2e08cjkwSEqbhcGTidPbH4cjEbu+OcaVRiMhL4LlA9xqPuwG/H3iQ1noeMA+Ma+CtE1r001rj8XlCM6XFXYHLG/y15VUuCktdlLqM17q1C21ygdmfRO1Af/9WhzL/VpPVZK2zuzXWYsduSazdLWtu+HpnY6+NHsr1UJ/bVz2/uDFLZu51gxfAQxWF1BzbbY4z70+6tm42OhzRod45yOYO5oiff9yWae3F5dpRR5f3r9RcF9Vq7YjTmUlKyhk4nZn+RJ2J3d4Xs1kWYhINi7QE/j2QoZTqDfwGTAGmhjek0NJaU+WtatG5ofW91qfrWFi5kWxm20EJzuyz4yq1U1bkoKQglbIiO3iMLSHWQc8kO+mpdrqk2ene2U73Tg5ibYeWRG1mG2ZTeFoe3govrnxXo5fM9BTW0dr3L5cZWAzE2d+J9bi65yBbU62Y7dLaijRaa9zu/Dq6vDehdXVvjtncAYcjk/j4EaSnX7g/UTscGVitDc99F6I+EZXAtdYepdTVwBKMaWTztdarW+JrBUt0rZFIXR4Xuq7VJRpBoRoc/JNgS2j2NJZgx8aYYzApE4WFxmpdy5bBJ5/Auo1GbKmpcOLR1dUZs7ONtTsiidYab7G30YuBuPPd+MrrWS6zRsLtcGSH+rurky2YLHL9OFp4PCVUVGwMmqi93qL9xyllxeHoi8ORSUrK2P0taYcjk5iYTtIjIlpMRCVwAK31+8D7Lf11hj45lHV71jXptSZlqpXsDkyGTquTFEdKSOaDHnic1WQNyz+E3Fx4+21j+/RTY53suDgYNQpmzICTTjKWqA7x8tQN0t4a5RYbWeGpzuUyHaZarV/nAGe93dWWxMhfLlPUz+eroqJiS9Au76qqnbWOtdl64HRmkp5+Qa0ub5utp4wEF2HRbn/rbjj2Boori5vUGo30+aGh8vvv8OKLsGgRBKba9+8P118PEyYYrexQ13zeX24xSCIOuozmvvrLLQYSr72nnbjsuHqXzDTHSnd1W6S1j8rK3KAtaZdrG/4BCABYrak4HJkkJ59WqyXtcPTDbHaE7RyECCaiFnJpClnIJbTKy41azwsWGLWefT6jS/zss+HMM+ufCh6Mt+yA7uoGWsl1Lpepai+X2WCFp1Qrphjprm5Pqqr2BG1JV1RsxOerXmTIZHLWakFX32ZgtUbYNZ8WJAu5RL/20ZQUDfr5Z3j0UaPWc2mpUcxszhy48EKjqBn4B+8UeBpOxDUGddVZbtGqanVHx/eKr7/CUxjKLYrI4/WWUVGxKWhr2uOpXvJXKQt2ex+czkySkk6plahjYrrIpQ/RJkgCb8eqXJq3nnPzyhNuNv9YRccYNzcf6ebogW46O924N1RRdqWb72uWW/TUX24xJi2GmI4xxA6Krb+7Ol6mO4ngfD43Lte2oK3pysrcWsfabN1wODLp2PG8Wi1qu70XJlPTqnQJES0kgbchvkpfo64bV+ZVUfqbG1O5h47ANYE3qAK+Af0N7E607E+49j524kfE19tdfajlFkX7ZiwR+nsd16W3oHX1VDyLJQmnsz+JiScd0OXdD7NZSt+K9ksSeITSWuMt9dbqjm6ou9pbUk+5xVQrpmQreS4ra3/vwO4qKwk9rBwz1srho2KwpddoJafKcpkiNNzugqAt6fLyDfh85fuPM5kcOBwZdOgwhLS0c2slaqs1JYxnIETkkgTeSrRP4yn0NHp0dVV+Vd3LZcaoWi1gR19HvYO6KiwW/jNXcf/9xvLjEybATTcZ9Z+FaC6vt4KKik1BE7XbvafGkWYcjt44HJkkJo6u1eVts3VtVmUtIdojSeBN5PP4aq/A1dCgrj3umrNVajF3qF4uM6ZLDLFDYmsP4jpgUFdjl8t0ueDRJ+DuuyE/H846C267DYYMCfE3Q7R5Pp+Hyspfg7akKyu31zo2JqYLTmcmqalnH7BEaG9MppgwnYEQbY8kcD9vxaF1V3sK6q6EZUm2VC8GkuHEemzw68b7E3KIl8vUGl5/Hf72N/j1Vzj5ZLjrLmM6mBB1Ma5L76pjKtZmtHbvP9ZsTvBflz7hoPnSFktcGM9CiPaj3SbwdZeuo2xV2f7k7CurazUQ9q9dbU2z7i8mUVd3tSUlvMtlrlwJf/kLfPaZ0dL++GMYMyZs4YgI5HYXUlGxsY7SlaX7j1PKhtOZgdOZRWrqWbUStdWaKrMIhAizdpvAfVU+LMkWHJmOerurLQnRUW6xuNiYt/3YY5CYaNz+6U+hXylNRAev14XLVVfpyt01jjRht/fC6cwkIeG4A5YI7S7XpYWIYO3233vWC1nhDiFkFi821iPfudO4ve22yCsiIkLPKF25vZ7SldWDIGNiOuFwZJKaOvGALu8+mEy28J2EEKLJ2m0Cbwt27YJrr4VXX4XDDoM33pDr3G2NUbpydz2lK6v2H2s2x+F09ic+/lg6dbq41hKhFkt8GM9CCNESJIFHqddeg+nTjbXL77oLZs0Cqyw8FbU8nuJ6SlcW7z9OqRgcjn44nZmkpIw/YL50R7kuLUQ7Igk8yhQXwzXXwHPPwVFHGbeHWmBEhIfPV1lP6cpdNY5U2O09cTgy6dTpogOWCO2BUrLqnRBCEnhU+fJLo7jI9u1wyy1w883S6o40RunKHfWUrqye7WC1dsTpzCQ5edwB86X7Yjbbw3YOQojoIAk8Cvh88K9/GaPMe/UyEvkxx4Q7qvbLuC5dV+nKTbVKV5rNHXA4MomPH056+h9rDB7LwGpNDONZCCGinSTwCFdQABddBO++C3/4A/z3vxAn62S0Co+ntM750h5P4f7jlLLicPTF4cgkOfn0Wl3eMTGd5Lq0EKJFSAKPYCtWwOTJ8Ntv8PDDcNVVILkgtHy+KlyurUG7vKuqfq91rM3WA6czk44dpx4wX7onJpP8KQkhWpf814lQL7wAl18OHTvCF1/AiBHhjih6Gdelf6ujy3srNRept1pT/S3pUw+YL90Xs9kZvpMQQogDSAKPMD6fMTjtn/+E0aONOd6pqeGOKjq43XvrmC+9EZ+vYv9xJpPTX7pyKGlpf8DpzMTp7O+/Li0r4AghokOzErhSajLwD2AgMFxrvaLGc7OByzCaN9dqrZf4958O/AcwA09pre/x7+8NLASSgR+AC3XNVSragdJSY5T5W28Zy6A+8gjESPGmWrzeMioqNgVN1B7PvhpHmnE4+uBwZJKUNOaA0pVdZIlQIUTUa24LfBVwNvBkzZ1KqSxgCjAI6AJ8rJTK9D/9KHAKkAt8r5RarLVeA9wLPKi1XqiUegIj+T/ezPiixm+/wfjxRjGShx4yVlhrr9e7fT43Lte2oF3elZW5tY6NiemK05lJWtrkIKUrZY6dEKLtalYC11qvBYKNsj0TWKi1rgS2KqU2AYFFPjdprbf4X7cQOFMptRY4CZjqP2YBRsu+XSTwdevgtNNg3z5jtPnYseGOqOUZpSt/r2O+9Ba0ri7XarEk4nD0JzHxxCClKzuE8SyEECJ8WuoaeFfgmxqPc/37AHYcsH8EkAIU6ur/2jWPP4hSajowHaBHjx4hCjk8vv0WzjgDzGZYvhyOPDLcEYWW210QtCVdXr4Rn69s/3Emkx2HI4PY2MNISzvngNKVKTIVSwghDtBgAldKfQx0CvLUHK3123W9LMg+DQS78KjrOT4orfU8YB5AdnZ2ncdFug8+gHPPhU6d4KOPoG/fcEfUNF5vBRUVm4Imard7T40jTdjtvf2lK0cdMBWrm1yXFkKIQ9BgAtdan9yE980Futd43A0ITKoNtn8PkKiUsvhb4TWPb5MWLYILLjCqiH3wAaSnhzui+hmlK7cF7fKurNxB7dKVnf2lKycFKV0po/KEECIUWqoLfTHwklLq3xiD2DKA7zBa2hn+Eee/YQx0m6q11kqpT4FzMUaiTwPqat1HvRdegGnTYORI45p3fIRUejSuS+fVuUSo1u79x5rN8Tid/UlIOL5WS9ooXSlLxQkhREtr7jSyScDDQBrwnlLqJ631aVrr1UqpRcAawANcpbX2+l9zNbAEYxrZfK31av/b3QgsVErdCfwIPN2c2CLVs8/CpZcac7zfeQdiY1s/Bo+niPLy4EuEer0l+49TyuYvXTmAlJSJB5SuTJPr0kIIEUZK66i9hAwY18BXrFjR8IER4L//NWp4n3KKMdfb2YILexmlKzcH7fJ2u/NqHKmw23vV6uquLl3ZXUpXCtFGKaVytNbZ4Y5DNJ2sxNZKnnrKSN7jxsHrr4M9BNUijevSO4K2pI3SldUfzqzWdJzOTFJSxh8wX7qPlK4UQogoJAm8Fbz8spG8x46FN94Am63xrzVKV+bXsUToJoyp9gazOc5fuvJo0tMvqpGoM7BYElrgzIQQQoSLJPAWtnixsTzqCScYLe+6krfHU0JFxcagidrrLdp/nFG6sh8ORyYpKeMOKF2ZLtelhRCinZAE3oI+/tgoB3rkkUYit9mqKCvbErTLu6pqZ41Xqv2lK9PT/3jAfOkeUrpSCCGEJPBQM0pX5pKTs4F58zYwe/YGJkzYwJo1G3C5tgK+/cdarWn+0pWnByld6QjfSQghhIh4ksCbwLguvbeO+dIb8flcAMyYAUrFonUmcXHZpKdPrTVf2mpNCvOZCCGEiFaSwOvh9ZbVOV/a4ynYf5xSFuz2vv4u7lN58MFMtmzJZN68TDIzO8t1aSGEECHX7hO4Ubpya9DBY1VVv9U61mbrjsORSceOUw6YL90Lk8lCWRmceCKsWgWffgr9+4fppIQQQrR57TaBr117EcXF31BRsQXw7t9vsaTgdGaSlHTyAQub9MNsrnvlFY8HpkyBnBx4800YMaIVTkIIIUS71W4TuFJmOnQ4grS082rNl7ZaU5r0fn/9q7Gu+eOPw8SJIQ5WCCGEOEC7TeADBjwTsvd68kl45BG4/nq48sqQva0QQghRJynA3EzLl8PVVxurrN17b7ijEUII0V5IAm+GrVvhnHOgXz9juVSz1P0QQgjRSiSBN1FJiXGt2+s1VllLkKXGhRBCtKJ2ew28ObSGSy6BtWvhgw8gIyPcEQkhhGhvJIE3wYMPGoVJ7rvPqO0thBBCtDbpQj9EX34JN9wAkyYZo86FEEKIcJAEfgjy8uC886B3b3jmGZAVUoUQQoSLdKE3UmCltcJC+PBDGbQmhBAivCSBN9Ktt8Jnn8Gzz8KQIeGORgghRHvXrC50pdR9Sql1SqmVSqk3lVKJNZ6brZTapJRar5Q6rcb+0/37Nimlbqqxv7dS6lul1Eal1CtKqZjmxBZKn34K//wnXHopTJsW7miEEEKI5l8DXwoM1loPATYAswGUUlnAFGAQcDrwmFLKrJQyA48CY4Es4Hz/sQD3Ag9qrTOAAuCyZsYWEnv3woUXGlPF5s4NdzRCCCGEoVkJXGv9kdba43/4DdDNf/9MYKHWulJrvRXYBAz3b5u01lu01lXAQuBMZRTMPgl4zf/6BcBZzYktFLSGyy6D3buNldZiY8MdkRBCCGEI5Sj0S4EP/Pe7AjtqPJfr31fX/hSgsMaHgcD+sHriCXj7bbjnHjjyyHBHI4QQQlRrcBCbUupjoFOQp+Zord/2HzMH8AAvBl4W5HhN8A8Mup7j64ppOjAdoEePHnXG3hyrV8PMmXDaaXDddS3yJYQQQogmazCBa61Pru95pdQ0YDwwRmsdSLq5QPcah3UDfvffD7Z/D5ColLL4W+E1jw8W0zxgHkB2dnadib6pqqrgggsgLs4YdW6S2fJCCCEiTHNHoZ8O3AhM1FqX13hqMTBFKWVTSvUGMoDvgO+BDP+I8xiMgW6L/Yn/U+Bc/+unAW83J7bmuOMO+PlneOop6BSs70EIIYQIs+bOA38EsAFLjXFofKO1vlJrvVoptQhYg9G1fpXW2guglLoaWAKYgfla69X+97oRWKiUuhP4EXi6mbE1yfffG1PGpk0zqo0JIYQQkUhV93pHp+zsbL1ixYqQvJfLZQxWKy6GVasgMbHh1wghRDRSSuVorbPDHYdoOlmJrYb/+z+jROiSJZK8hRBCRDYZnuX35ZfwwANwxRVw6qnhjkYIIYSonyRwoKLCWCa1Z0+jxrcQQggR6aQLHWPU+caNsHSpMXVMCCGEiHTtvgW+cqXR6p42DU6ud8a7EEIIETnadQL3euHyyyEpybj+LYQQQkSLdt2F/sgjxrzvl16ClJRwRyOEEEI0Xrttgf/6K8yZA2PHwpQp4Y5GCCGEODTtMoFrDX/+s3H/8cdBBSulIoQQQkSwdtmF7vXC4MFG67tnz3BHI4QQQhy6dpnALRb417/CHYUQQgjRdO2yC10IIYSIdpLAhRBCiCgkCVwIIYSIQkXoN/AAAAQdSURBVJLAhRBCiCgkCVwIIYSIQpLAhRBCiCgkCVwIIYSIQpLAhRBCiCiktNbhjqFZlFL5wK9NfHkqsCeE4YSTnEtkknOJPG3lPKB559JTa50WymBE64r6BN4cSqkVWuvscMcRCnIukUnOJfK0lfOAtnUu4tBJF7oQQggRhSSBCyGEEFGovSfweeEOIITkXCKTnEvkaSvnAW3rXMQhatfXwIUQQoho1d5b4EIIIURUancJXCk1WSm1WinlU0pl19jfSylVoZT6yb89Ec44G6Ouc/E/N1sptUkptV4pdVq4YmwKpdQ/lFK/1fhZjAt3TIdKKXW6/3u/SSl1U7jjaQ6l1Dal1C/+n8WKcMdzKJRS85VSu5VSq2rsS1ZKLVVKbfTfJoUzxsaq41yi/m9FNF27S+DAKuBs4PMgz23WWh/h365s5biaIui5KKWygCnAIOB04DGllLn1w2uWB2v8LN4PdzCHwv+9fhQYC2QB5/t/JtHsRP/PItqmLD2L8TdQ003AJ1rrDOAT/+No8CwHnwtE8d+KaJ52l8C11mu11uvDHUco1HMuZwILtdaVWuutwCZgeOtG164NBzZprbdorauAhRg/E9HKtNafA/sO2H0msMB/fwFwVqsG1UR1nItox9pdAm9Ab6XUj0qp5Uqp48MdTDN0BXbUeJzr3xdNrlZKrfR3G0ZFF2cNbeH7X5MGPlJK5Silpoc7mBBI11rvBPDfdgxzPM0VzX8rohnaZAJXSn2slFoVZKuvFbQT6KG1HgrMBF5SSsW3TsR1a+K5qCD7Imq6QQPn9TjQFzgC4+fyQFiDPXQR//0/RCO11kdiXBK4Sil1QrgDEvtF+9+KaAZLuANoCVrrk5vwmkqg0n8/Rym1GcgEwjpopynngtHi617jcTfg99BEFBqNPS+l1H+Bd1s4nFCL+O//odBa/+6/3a2UehPjEkGwMSTRIk8p1VlrvVMp1RnYHe6AmkprnRe4H6V/K6IZ2mQLvCmUUmmBgV5KqT5ABrAlvFE12WJgilLKppTqjXEu34U5pkbz/1MNmIQxWC+afA9kKKV6K6ViMAYULg5zTE2ilIpVSsUF7gOnEn0/jwMtBqb5708D3g5jLM3SBv5WRDO0yRZ4fZRSk4CHgTTgPaXUT1rr04ATgNuVUh7AC1yptY7oASN1nYvWerVSahGwBvAAV2mtveGM9RD9Syl1BEa38zbgivCGc2i01h6l1NXAEsAMzNdarw5zWE2VDryplALj/8VLWusPwxtS4ymlXgZGA6lKqVzgVuAeYJFS6jJgOzA5fBE2Xh3nMjqa/1ZE88hKbEIIIUQUki50IYQQIgpJAhdCCCGikCRwIYQQIgpJAhdCCCGikCRwIYQQIgpJAhdCCCGikCRwIYQQIgpJAhdCCCGi0P8DQDIkHBm+djUAAAAASUVORK5CYII=\n",
      "text/plain": [
       "<Figure size 432x288 with 1 Axes>"
      ]
     },
     "metadata": {},
     "output_type": "display_data"
    }
   ],
   "source": [
    "plt.figure(1)\n",
    "plt.plot(x, f, 'b', label=\"function\")\n",
    "plt.plot(x, Df, 'r', label=\"derivative\")\n",
    "\n",
    "plt.plot(x, test1, 'g', label=\"test1(x=1)\")\n",
    "plt.plot(x, test2, 'm', label=\"test2(x=2)\")\n",
    "plt.plot(x, test3, 'y', label=\"test3(x=3)\")\n",
    "plt.legend(bbox_to_anchor=(1.05, 1), loc=2, borderaxespad=0.)\n",
    "plt.show()"
   ]
  }
 ],
 "metadata": {
  "kernelspec": {
   "display_name": "Python 3",
   "language": "python",
   "name": "python3"
  },
  "language_info": {
   "codemirror_mode": {
    "name": "ipython",
    "version": 3
   },
   "file_extension": ".py",
   "mimetype": "text/x-python",
   "name": "python",
   "nbconvert_exporter": "python",
   "pygments_lexer": "ipython3",
   "version": "3.6.5"
  }
 },
 "nbformat": 4,
 "nbformat_minor": 2
}
